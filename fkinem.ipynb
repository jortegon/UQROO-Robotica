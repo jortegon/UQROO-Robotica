{
 "metadata": {
  "language_info": {
   "codemirror_mode": {
    "name": "ipython",
    "version": 3
   },
   "file_extension": ".py",
   "mimetype": "text/x-python",
   "name": "python",
   "nbconvert_exporter": "python",
   "pygments_lexer": "ipython3",
   "version": "3.8.6-final"
  },
  "orig_nbformat": 2,
  "kernelspec": {
   "name": "python3",
   "display_name": "Python 3.8.6 64-bit",
   "metadata": {
    "interpreter": {
     "hash": "082e9a3bcad0a290d0001e938aa60b99250c6c2ef33a923c00b70f9826caf4b7"
    }
   }
  }
 },
 "nbformat": 4,
 "nbformat_minor": 2,
 "cells": [
  {
   "source": [
    "## Robot Arm Kinematics\n",
    "This notebook explain the Forward kinematics of a serial-link manipulator. Remember that an arm is a set of links, in a chain, connected by joints. Each joint has one degree of freedom (dof), either translational (prismatic joint) or rotational (revolute joint). \n",
    "We follow the Denavit-Hartenberg notation to describe the arm, which represents the transformation of consecutive link frames."
   ],
   "cell_type": "markdown",
   "metadata": {}
  },
  {
   "source": [
    "First, let's make sure that all dependencies are installed."
   ],
   "cell_type": "markdown",
   "metadata": {}
  },
  {
   "cell_type": "code",
   "execution_count": null,
   "metadata": {},
   "outputs": [],
   "source": [
    "!pip install roboticstoolbox-python\n",
    "!pip install ipympl"
   ]
  },
  {
   "source": [
    "Now, we import the Peter Corke's Robotics Toolbox (RTB) for Python, and numpy for the matrix manipulation."
   ],
   "cell_type": "markdown",
   "metadata": {}
  },
  {
   "cell_type": "code",
   "execution_count": null,
   "metadata": {},
   "outputs": [],
   "source": [
    "import roboticstoolbox as rtb\n",
    "import spatialmath as sm\n",
    "from math import pi\n",
    "import numpy as np\n",
    "import matplotlib.pyplot as plt"
   ]
  },
  {
   "source": [
    "The following cell calls the magic to draw interactive plots of robot, but it doesn't work well on Google Colab."
   ],
   "cell_type": "markdown",
   "metadata": {}
  },
  {
   "cell_type": "code",
   "execution_count": null,
   "metadata": {},
   "outputs": [],
   "source": [
    "%matplotlib widget"
   ]
  },
  {
   "source": [
    "The RTB has several forms to describe a joint, but we will focus on standard Denavit-Hartenberg notation (DH).\n",
    "To specify a kinematic model using DH notation, there is the class DHRobot. Its constructor receives a list of link objects. For example, an two-link planar manipulator is simply\n",
    "\n",
    ">>> robot = DHRobot( \\[ RevoluteDH(a=1), RevoluteDH(a=1) \\], name=\"two_link\")\n",
    "\n",
    "where only the non-zero parameters need to be specified. \n",
    "\n",
    "The RevoluteDH objects describe revolute joints, but there is possible to use PrismaticDH for prismatic joints. "
   ],
   "cell_type": "markdown",
   "metadata": {}
  },
  {
   "cell_type": "code",
   "execution_count": null,
   "metadata": {},
   "outputs": [],
   "source": [
    "robot = rtb.DHRobot( \n",
    "    [ \n",
    "        rtb.RevoluteDH(a=1), \n",
    "        rtb.RevoluteDH(a=1) \n",
    "    ], \n",
    "    name=\"two_link\")\n",
    "print(robot)"
   ]
  },
  {
   "source": [
    "By default RTB will plot the robot (at the specified joint configuration) as a “noodle robot” using matplotlib.\n",
    "\n",
    ">>> robot.plot(\\[pi/4,pi/2\\])"
   ],
   "cell_type": "markdown",
   "metadata": {}
  },
  {
   "cell_type": "code",
   "execution_count": null,
   "metadata": {},
   "outputs": [],
   "source": [
    "fig = robot.plot([-pi/2,pi/6])\n",
    "ax = plt.gca()\n",
    "ax.view_init(elev=90, azim=-90)\n"
   ]
  },
  {
   "source": [
    "We can easily perform standard forward kinematic operations\n",
    "\n",
    ">>> T = robot.fkine(\\[pi/2, pi/4\\])\n",
    "\n",
    ">>> print(T)\n",
    "\n",
    ">>> robot.plot(\\[pi/2, pi/4\\])\n",
    "\n",
    "fkine() returns the forward kinematics."
   ],
   "cell_type": "markdown",
   "metadata": {}
  },
  {
   "cell_type": "code",
   "execution_count": null,
   "metadata": {},
   "outputs": [],
   "source": [
    "\n",
    "T = robot.fkine([-pi/2,pi/6])\n",
    "print(T)\n",
    "robot.plot([-pi/2,pi/6])\n",
    "ax = plt.gca()\n",
    "ax.view_init(elev=90, azim=-90)"
   ]
  },
  {
   "source": [
    "### Example: 3 dof anthropomorphic manipulator\n",
    "Table of the Denavit-Hartenberg parameters\n",
    "\n",
    "| **  Link  ** | **  d  ** | **  $\\theta$  ** | **  a  ** | **  $\\alpha$  ** |\n",
    "| :---: | :---: | :---: | :---: |\n",
    "| L1 | 0 | $\\theta_1$ | 0 | 90º |\n",
    "| L2 | 0 | $\\theta_2$ | $a_2$ | 0º|\n",
    "| L3 | 0 | $\\theta_3$ | $a_3$ | 0º|"
   ],
   "cell_type": "markdown",
   "metadata": {}
  },
  {
   "cell_type": "code",
   "execution_count": null,
   "metadata": {},
   "outputs": [],
   "source": [
    "antro = rtb.DHRobot( \n",
    "    [ \n",
    "        rtb.RevoluteDH(d=0, a=0, alpha=pi/2), \n",
    "        rtb.RevoluteDH(a=1), \n",
    "        rtb.RevoluteDH(a=1) \n",
    "    ], \n",
    "    name=\"3antro\")\n",
    "print(antro)"
   ]
  },
  {
   "cell_type": "code",
   "execution_count": null,
   "metadata": {},
   "outputs": [],
   "source": [
    "T=antro.fkine([0,0,0])\n",
    "print(T)\n",
    "antro.plot([0,0,0])\n",
    "ax = plt.gca()\n",
    "ax.view_init(azim=-80)"
   ]
  },
  {
   "cell_type": "code",
   "execution_count": null,
   "metadata": {},
   "outputs": [],
   "source": [
    "\n",
    "T=antro.fkine([pi/2,pi/2,pi/2])\n",
    "print(T)\n",
    "antro.plot([pi/2,pi/2,pi/2])\n",
    "ax = plt.gca()\n",
    "ax.view_init(azim=-80)"
   ]
  },
  {
   "source": [
    "### Example: 3 dof spherical manipulator\n",
    "Table of the Denavit-Hartenberg parameters\n",
    "\n",
    "| **  Link  ** | **  d  ** | **  $\\theta$  ** | **  a  ** | **  $\\alpha$  ** |\n",
    "| :---: | :---: | :---: | :---: |\n",
    "| L1 | 0 | $\\theta_1$ | 0 | -90º |\n",
    "| L2 | $d_2$ | $\\theta_2$ | 0 | 90º|\n",
    "| L3 | $d_3$ | 0 | 0 | 0º|"
   ],
   "cell_type": "markdown",
   "metadata": {}
  },
  {
   "cell_type": "code",
   "execution_count": null,
   "metadata": {},
   "outputs": [],
   "source": [
    "spheric = rtb.DHRobot( \n",
    "    [ \n",
    "        rtb.RevoluteDH(alpha=-pi/2), \n",
    "        rtb.RevoluteDH(d=1,alpha=pi/2), \n",
    "        rtb.PrismaticDH() \n",
    "    ], \n",
    "    name=\"spheric\")\n",
    "print(spheric)"
   ]
  },
  {
   "cell_type": "code",
   "execution_count": null,
   "metadata": {},
   "outputs": [],
   "source": [
    "T=spheric.fkine([0,0,1])\n",
    "print(T)\n",
    "spheric.plot([0,0,1])\n",
    "ax = plt.gca()\n",
    "ax.view_init(azim=10)"
   ]
  },
  {
   "cell_type": "code",
   "execution_count": null,
   "metadata": {},
   "outputs": [],
   "source": [
    "T=spheric.fkine([pi/2,pi/2,1])\n",
    "print(T)\n",
    "spheric.plot([pi/2,pi/2,1])\n",
    "ax = plt.gca()\n",
    "ax.view_init(azim=10)"
   ]
  },
  {
   "source": [
    "### Example: 3 dof spherical wrist\n",
    "Table of the Denavit-Hartenberg parameters\n",
    "\n",
    "| **  Link  ** | **  d  ** | **  $\\theta$  ** | **  a  ** | **  $\\alpha$  ** |\n",
    "| :---: | :---: | :---: | :---: |\n",
    "| L4 | 0 | $\\theta_4$ | 0 | -90º |\n",
    "| L5 | 0 | $\\theta_5$ | 0 | 90º|\n",
    "| L6 | $d_6$ | $\\theta_6$ | 0 | 0º|"
   ],
   "cell_type": "markdown",
   "metadata": {}
  },
  {
   "cell_type": "code",
   "execution_count": null,
   "metadata": {},
   "outputs": [],
   "source": [
    "wrist = rtb.DHRobot( #complete the configuration# , \n",
    "    [ \n",
    "        rtb.RevoluteDH(alpha=-pi/2), \n",
    "        rtb.RevoluteDH(alpha=pi/2), \n",
    "        rtb.RevoluteDH(d=1)\n",
    "    ], \n",
    "    name=\"wrist\")\n",
    "print(wrist)"
   ]
  },
  {
   "cell_type": "code",
   "execution_count": null,
   "metadata": {},
   "outputs": [],
   "source": [
    "T=wrist.fkine([0,0,0])\n",
    "print(T)\n",
    "wrist.plot([0,0,0])\n",
    "ax = plt.gca()\n",
    "ax.view_init(azim=-80)"
   ]
  },
  {
   "cell_type": "code",
   "execution_count": null,
   "metadata": {},
   "outputs": [],
   "source": [
    "T=wrist.fkine([pi/2,pi/2,pi/2])\n",
    "print(T)\n",
    "wrist.plot([pi/2,pi/2,pi/2])\n",
    "ax = plt.gca()\n",
    "ax.view_init(azim=-80)"
   ]
  },
  {
   "source": [
    "Also, it is possible to compute (iteratively) the inverse kinematics as\n",
    "\n",
    ">>> q, *_ = puma.ikine(T)\n",
    "\n",
    ">>> print(q)\n",
    "\n",
    "ikine() is the inverse kinematic (IK) solution. For a manipulator with n < 6 DOF an additional mask argument is required to indicate which of the 6−n task-space DOF are to be unconstrained in the solution, e.g., for a two planar robot \"planar2\"\n",
    "\n",
    ">>> q, *_ = planar2.ikine(T,mask=[1,1,0,0,0,0])\n"
   ],
   "cell_type": "markdown",
   "metadata": {}
  },
  {
   "cell_type": "code",
   "execution_count": null,
   "metadata": {},
   "outputs": [],
   "source": [
    "# Recalling our planar robot with two links of size 1\n",
    "T = sm.SE3(0,1,0)\n",
    "q, *_ = robot.ikine(T,mask=[1,1,0,0,0,0])\n",
    "print(q)\n",
    "robot.plot(q)\n",
    "ax = plt.gca()\n",
    "ax.view_init(elev=90, azim=-90)"
   ]
  },
  {
   "cell_type": "code",
   "execution_count": null,
   "metadata": {},
   "outputs": [],
   "source": []
  }
 ]
}