{
 "metadata": {
  "language_info": {
   "codemirror_mode": {
    "name": "ipython",
    "version": 3
   },
   "file_extension": ".py",
   "mimetype": "text/x-python",
   "name": "python",
   "nbconvert_exporter": "python",
   "pygments_lexer": "ipython3",
   "version": "3.8.6-final"
  },
  "orig_nbformat": 2,
  "kernelspec": {
   "name": "python3",
   "display_name": "Python 3.8.6 64-bit",
   "metadata": {
    "interpreter": {
     "hash": "082e9a3bcad0a290d0001e938aa60b99250c6c2ef33a923c00b70f9826caf4b7"
    }
   }
  }
 },
 "nbformat": 4,
 "nbformat_minor": 2,
 "cells": [
  {
   "cell_type": "code",
   "execution_count": null,
   "metadata": {},
   "outputs": [],
   "source": [
    "import numpy as np\n",
    "import matplotlib.pyplot as plt"
   ]
  },
  {
   "cell_type": "code",
   "execution_count": null,
   "metadata": {},
   "outputs": [],
   "source": [
    "def q3_func(a,t):\n",
    "    ti=t[0]\n",
    "    t=t-ti\n",
    "    qt = a[0] + a[1]*t + a[2]*t**2 + a[3]*t**3\n",
    "    q_punto_t = a[1] + 2*a[2]*t + 3*a[3]*t**2\n",
    "    q_dos_puntos_t = 2*a[2] + 6*a[3]*t\n",
    "    return qt, q_punto_t, q_dos_puntos_t"
   ]
  },
  {
   "cell_type": "code",
   "execution_count": null,
   "metadata": {},
   "outputs": [],
   "source": [
    "def a3_point(qi,qf,q_punto_i=0, q_punto_f=0, ti=0, tf=1):\n",
    "    a = np.zeros(4)\n",
    "    T=tf-ti\n",
    "    a[0]=0\n",
    "    a[1]=0\n",
    "    a[2]=0\n",
    "    a[3]=0\n",
    "    return a"
   ]
  },
  {
   "cell_type": "code",
   "execution_count": null,
   "metadata": {},
   "outputs": [],
   "source": [
    "def a3_vec(q, q_punto=None,t=None):\n",
    "    n = q.size\n",
    "    a = np.zeros((4, n-1))\n",
    "    if t is None :\n",
    "        t = np.arange(n)\n",
    "    if q_punto is None:\n",
    "        q_punto = np.zeros(n)\n",
    "        v = np.zeros(n)\n",
    "        for i in range(1,n):\n",
    "            v[i] = (q[i]-q[i-1])/(t[i]-t[i-1])\n",
    "        for i in range(1,n-1):\n",
    "            q_punto[i] = 0 if np.sign(v[i]) != np.sign(v[i+1]) else (v[i]+v[i+1])/2\n",
    "\n",
    "    for i in range(n-1):\n",
    "        a[0,i]=q[i]\n",
    "        a[1,i]=q_punto[i]\n",
    "        a[2,i]=(-3*(q[i]-q[i+1])-(2*q_punto[i] + q_punto[i+1])*(t[i+1]-t[i]))/((t[i+1]-t[i])**2)\n",
    "        a[3,i]=(2*(q[i]-q[i+1])+(q_punto[i] + q_punto[i+1])*(t[i+1]-t[i]))/((t[i+1]-t[i])**3)    \n",
    "    return a"
   ]
  },
  {
   "cell_type": "code",
   "execution_count": null,
   "metadata": {},
   "outputs": [],
   "source": [
    "def q5_func(a,t):\n",
    "    ti=t[0]\n",
    "    t=t-ti\n",
    "    qt = a[0] + a[1]*t + a[2]*t**2 + a[3]*t**3 + a[4]*t**4 + a[5]*t**5  \n",
    "    q_punto_t = a[1] + 2*a[2]*t + 3*a[3]*t**2 + 4*a[4]*t**3 + 5*a[5]*t**4\n",
    "    q_dos_puntos_t = 2*a[2] + 6*a[3]*t + 12*a[4]*t**2 + 20*a[5]*t**3\n",
    "    return qt, q_punto_t, q_dos_puntos_t"
   ]
  },
  {
   "cell_type": "code",
   "execution_count": null,
   "metadata": {},
   "outputs": [],
   "source": [
    "def a5_point(qi,qf,q_punto_i=0, q_punto_f=0, q_dos_puntos_i=0, q_dos_puntos_f=0, ti=0, tf=1):\n",
    "    a = np.zeros(6)\n",
    "    T=tf-ti\n",
    "    a[0]=0\n",
    "    a[1]=0\n",
    "    a[2]=0\n",
    "    a[3]=0\n",
    "    a[4]=0\n",
    "    a[5]=0\n",
    "    return a"
   ]
  },
  {
   "cell_type": "code",
   "execution_count": null,
   "metadata": {},
   "outputs": [],
   "source": [
    "def a5_vec(q, q_punto=None,q_dos_puntos=None,t=None):\n",
    "    n = q.size\n",
    "    a = np.zeros((6, n-1))\n",
    "    if t is None :\n",
    "        t = np.arange(n)\n",
    "    if q_punto is None:\n",
    "        q_punto = np.zeros(n)\n",
    "        v = np.zeros(n)\n",
    "        for i in range(1,n):\n",
    "            v[i] = (q[i]-q[i-1])/(t[i]-t[i-1])\n",
    "        for i in range(1,n-1):\n",
    "            q_punto[i] = 0 if np.sign(v[i]) != np.sign(v[i+1]) else (v[i]+v[i+1])/2\n",
    "    if q_dos_puntos is None:\n",
    "        q_dos_puntos = np.zeros(n)\n",
    "\n",
    "    for i in range(n-1):\n",
    "        T=t[i+1]-t[i]\n",
    "        a[0,i]=q[i]\n",
    "        a[1,i]=q_punto[i]\n",
    "        a[2,i]=q_dos_puntos[i]/2\n",
    "        a[3,i]=(20*(q[i+1]-q[i]) - (8*q_punto[i+1]+12*q_punto[i])*T - (3*q_dos_puntos[i+1]-q_dos_puntos[i])*T**2)/(2*T**3)\n",
    "        a[4,i]=(30*(q[i]-q[i+1]) + (14*q_punto[i+1]+16*q_punto[i])*T - (3*q_dos_puntos[i+1]-2*q_dos_puntos[i])*T**2)/(2*T**4)\n",
    "        a[5,i]=(12*(q[i+1]-q[i]) - 6*(q_punto[i+1]+q_punto[i])*T - (q_dos_puntos[i+1]-q_dos_puntos[i])*T**2)/(2*T**5)\n",
    "    return a"
   ]
  },
  {
   "cell_type": "code",
   "execution_count": null,
   "metadata": {},
   "outputs": [],
   "source": [
    "qi = 10\n",
    "qf = 30\n",
    "ti = 0\n",
    "tf = 1\n",
    "a3 = a3_point(qi,qf)\n",
    "a5 = a5_point(qi,qf)\n",
    "t = np.linspace(0,1,50)\n",
    "q3 = q3_func(a3,t)\n",
    "q5 = q5_func(a5,t)\n",
    "plt.plot(t,q3[0])\n",
    "plt.plot(t,q5[0])"
   ]
  },
  {
   "cell_type": "code",
   "execution_count": null,
   "metadata": {},
   "outputs": [],
   "source": [
    "plt.plot(t,q3[1])\n",
    "plt.plot(t,q5[1])"
   ]
  },
  {
   "cell_type": "code",
   "execution_count": null,
   "metadata": {},
   "outputs": [],
   "source": [
    "plt.plot(t,q3[2])\n",
    "plt.plot(t,q5[2])"
   ]
  },
  {
   "cell_type": "code",
   "execution_count": null,
   "metadata": {},
   "outputs": [],
   "source": [
    "q = np.array([10,20,0,30,40])\n",
    "t = np.array([0,2,4,8,10])\n",
    "a3 = a3_vec(q,t=t)\n",
    "a5 = a5_vec(q,t=t)\n",
    "for i in range(q.size-1):\n",
    "    tt = np.linspace(t[i],t[i+1],endpoint=True)\n",
    "    q3 = q3_func(a3[:,i],tt)\n",
    "    q5 = q5_func(a5[:,i],tt)\n",
    "    plt.plot(tt,q3[2])\n",
    "    plt.plot(tt,q5[2])"
   ]
  },
  {
   "cell_type": "code",
   "execution_count": null,
   "metadata": {},
   "outputs": [],
   "source": []
  }
 ]
}