{
 "metadata": {
  "language_info": {
   "codemirror_mode": {
    "name": "ipython",
    "version": 3
   },
   "file_extension": ".py",
   "mimetype": "text/x-python",
   "name": "python",
   "nbconvert_exporter": "python",
   "pygments_lexer": "ipython3",
   "version": "3.8.6-final"
  },
  "orig_nbformat": 2,
  "kernelspec": {
   "name": "python3",
   "display_name": "Python 3.8.6 64-bit",
   "metadata": {
    "interpreter": {
     "hash": "082e9a3bcad0a290d0001e938aa60b99250c6c2ef33a923c00b70f9826caf4b7"
    }
   }
  }
 },
 "nbformat": 4,
 "nbformat_minor": 2,
 "cells": [
  {
   "cell_type": "code",
   "execution_count": null,
   "metadata": {},
   "outputs": [],
   "source": [
    "!pip install roboticstoolbox-python\n",
    "!pip install ipympl"
   ]
  },
  {
   "cell_type": "code",
   "execution_count": 13,
   "metadata": {},
   "outputs": [],
   "source": [
    "import roboticstoolbox as rtb\n",
    "import spatialmath as sm\n",
    "from math import pi, sin, cos\n",
    "import numpy as np\n",
    "import matplotlib.pyplot as plt"
   ]
  },
  {
   "cell_type": "code",
   "execution_count": 14,
   "metadata": {},
   "outputs": [],
   "source": [
    "%matplotlib widget"
   ]
  },
  {
   "cell_type": "code",
   "execution_count": 15,
   "metadata": {},
   "outputs": [
    {
     "output_type": "stream",
     "name": "stdout",
     "text": [
      "┏━━━━┳━━━━━┳━━━━┳━━━━━━┓\n┃θⱼ  ┃ dⱼ  ┃ aⱼ ┃  ⍺ⱼ  ┃\n┣━━━━╋━━━━━╋━━━━╋━━━━━━┫\n┃ q1\u001b[0m ┃ 0.0\u001b[0m ┃  1\u001b[0m ┃ 0.0°\u001b[0m ┃\n┃ q2\u001b[0m ┃ 0.0\u001b[0m ┃  1\u001b[0m ┃ 0.0°\u001b[0m ┃\n┗━━━━┻━━━━━┻━━━━┻━━━━━━┛\n\n"
     ]
    }
   ],
   "source": [
    "robot = rtb.DHRobot( \n",
    "    [ \n",
    "        rtb.RevoluteDH(a=1), \n",
    "        rtb.RevoluteDH(a=1) \n",
    "    ], \n",
    "    name=\"two_link\")\n",
    "print(robot)\n"
   ]
  },
  {
   "source": [
    "Para nuestro ejemplo l1 y l2 miden 1 \n",
    "De acuerdo con la cinemática directa para un brazo planar\n",
    "$$ x = \\cos(q1) + \\cos(q1+q2) $$\n",
    "$$ y = \\sin(q1) + \\sin(q1+q2) $$\n",
    "$$ \\begin{eqnarray} J_0 & = & \\left [ \\begin{array}{cc}\\frac{\\partial x}{\\partial q1} && \\frac{\\partial x}{\\partial q2} \\\\ \\frac{\\partial y}{\\partial q1} && \\frac{\\partial y}{\\partial q2}  \\end{array} \\right ]\\\\ & = & \\left [ \\begin{array}{cc}-\\sin(q1) -\\sin(q1+q2) && -\\sin(q1+q2) \\\\ \\cos(q1) + \\cos(q1+q2) && \\cos(q1+q2)  \\end{array}\\right ] \\end{eqnarray}$$\n",
    "\n",
    " End-effector spatial velocity $$\\nu = (v_x, v_y, v_z, \\omega_x, \\omega_y, \\omega_z)^T$$\n",
    "        is related to joint velocity by $${}^{0}\\!\\nu = \\mathbf{J}_0(q) \\dot{q}$$\n",
    "\n",
    "robot.jacob_dot(q, qd) computes the product (6) of the temporal\n",
    "derivative of the manipulator Jacobian (in the world frame) and the\n",
    "joint rates $\\frac{d}{dt} \\dot{\\mathbf{J}}(q) \\dot{q}$.\n",
    "This term appears in the formulation for operational space control $\\ddot{x} = \\mathbf{J}(q) \\ddot{q} + \\dot{\\mathbf{J}}(q) \\dot{q}$.\n",
    "            \n"
   ],
   "cell_type": "markdown",
   "metadata": {}
  },
  {
   "cell_type": "code",
   "execution_count": 23,
   "metadata": {},
   "outputs": [
    {
     "output_type": "stream",
     "name": "stdout",
     "text": [
      "J= [[-1.2246468e-16 -1.2246468e-16]\n [ 0.0000000e+00 -1.0000000e+00]]\np= [0.0000000e+00 1.2246468e-16]\np_punto [-6.24569868e-20 -3.40000000e-04]\np_star [-6.24569868e-20 -3.40000000e-04]\ndirecta(q_star) [ 1.15599997e-07 -3.39999979e-04  0.00000000e+00]\n"
     ]
    }
   ],
   "source": [
    "q = np.array([0,pi])\n",
    "p = np.array([cos(q[0]) + cos(q[0]+q[1]),sin(q[0]) + sin(q[0]+q[1])])\n",
    "q_punto = np.array([.00017, .00034]) # 1 grado y 2 grados\n",
    "q_star = q + q_punto\n",
    "p_punto = np.dot(jacobian(q), q_punto)\n",
    "print('J=',jacobian (q))\n",
    "print('p=',p)\n",
    "print('p_punto',p_punto)\n",
    "p_star = p[0:2] + p_punto\n",
    "print('p_star',p_star)\n",
    "print('directa(q_star)',robot.fkine(q_star).t)"
   ]
  },
  {
   "cell_type": "code",
   "execution_count": null,
   "metadata": {},
   "outputs": [],
   "source": [
    "q = np.array([pi/4,pi/6])\n",
    "T = robot.fkine(q)\n",
    "p = T.t\n",
    "print(q)\n",
    "print(p)\n",
    "print(T.rpy(unit='deg'))\n",
    "robot.plot(q)\n",
    "ax = plt.gca()\n",
    "ax.view_init(elev=90, azim=-90)"
   ]
  },
  {
   "cell_type": "code",
   "execution_count": null,
   "metadata": {},
   "outputs": [],
   "source": [
    "q_punto = np.array([.017, .034]) # 1 grado y 2 grados\n",
    "q_star = q + q_punto\n",
    "print(q_star)"
   ]
  },
  {
   "cell_type": "code",
   "execution_count": 16,
   "metadata": {},
   "outputs": [],
   "source": [
    "def jacobian(q):\n",
    "    J = np.array([ [-sin(q[0]) + -sin(q[0]+q[1]), -sin(q[0]+q[1])],\n",
    "                   [cos(q[0]) + cos(q[0]+q[1]), cos(q[0]+q[1])] ])\n",
    "    return J"
   ]
  },
  {
   "cell_type": "code",
   "execution_count": null,
   "metadata": {},
   "outputs": [],
   "source": [
    "p_punto = np.dot(jacobian(q), q_punto)\n",
    "print(jacobian (q))\n",
    "print(p)\n",
    "print(p_punto)\n",
    "p_star = p[0:2] + p_punto\n",
    "print(p_star)\n",
    "print(robot.fkine(q_star).t)"
   ]
  },
  {
   "cell_type": "code",
   "execution_count": null,
   "metadata": {},
   "outputs": [],
   "source": [
    "robot.plot(q_star)\n",
    "ax = plt.gca()\n",
    "ax.view_init(elev=90, azim=-90)"
   ]
  },
  {
   "cell_type": "code",
   "execution_count": null,
   "metadata": {},
   "outputs": [],
   "source": [
    "T = sm.SE3(p_star[0],p_star[1],0)\n",
    "q_prima, *_ = robot.ikine(T,mask=[1,1,0,0,0,0])\n",
    "print(q_prima)\n",
    "robot.plot(q_prima)\n",
    "ax = plt.gca()\n",
    "ax.view_init(elev=90, azim=-90)"
   ]
  },
  {
   "cell_type": "code",
   "execution_count": null,
   "metadata": {},
   "outputs": [],
   "source": [
    "## print(robot.jacobe(q)) # Jacobian in end-effector frame\n",
    "print(robot.jacob0(q))# Jacobian in world frame\n",
    "#print(robot.jacob_dot(q,q_punto))# Jacobe dot in end-effector frame"
   ]
  },
  {
   "cell_type": "code",
   "execution_count": null,
   "metadata": {},
   "outputs": [],
   "source": [
    "qt = rtb.tools.trajectory.jtraj(q, q_star, 50)\n",
    "qt.q"
   ]
  },
  {
   "cell_type": "code",
   "execution_count": null,
   "metadata": {},
   "outputs": [],
   "source": [
    "robot.plot(qt.q, dt=0.1);"
   ]
  },
  {
   "cell_type": "code",
   "execution_count": null,
   "metadata": {},
   "outputs": [],
   "source": []
  }
 ]
}